{
 "cells": [
  {
   "cell_type": "code",
   "execution_count": 1,
   "id": "48f35fe1",
   "metadata": {},
   "outputs": [],
   "source": [
    "from alpaca_trade_api.rest import REST, TimeFrame \n",
    "import pandas as pd"
   ]
  },
  {
   "cell_type": "code",
   "execution_count": 2,
   "id": "f5b7ac86",
   "metadata": {},
   "outputs": [],
   "source": [
    "BASE_URL = \"https://paper-api.alpaca.markets\" \n",
    "KEY_ID = \"PK5V9EKCIJE1HV2YX1AG\" \n",
    "SECRET_KEY = \"THxx2oPnZIICqfyrmqNmDr9qMfc7A4Og9h5U5FUt\""
   ]
  },
  {
   "cell_type": "code",
   "execution_count": 3,
   "id": "62c1b3f8",
   "metadata": {},
   "outputs": [
    {
     "name": "stdout",
     "output_type": "stream",
     "text": [
      "                          exchange      open      high       low     close  \\\n",
      "timestamp                                                                    \n",
      "2022-05-09 05:00:00+00:00     CBSE  33639.27  33661.87  33632.15  33655.31   \n",
      "2022-05-09 05:00:00+00:00     ERSX  33649.40  33652.70  33644.90  33650.40   \n",
      "2022-05-09 05:01:00+00:00     CBSE  33653.35  33709.11  33653.35  33701.07   \n",
      "2022-05-09 05:01:00+00:00     FTXU  33678.00  33712.00  33674.00  33712.00   \n",
      "2022-05-09 05:02:00+00:00     CBSE  33700.96  33724.00  33693.83  33721.96   \n",
      "...                            ...       ...       ...       ...       ...   \n",
      "2022-05-09 09:46:00+00:00     CBSE  33442.95  33453.98  33434.68  33440.28   \n",
      "2022-05-09 09:47:00+00:00     CBSE  33437.29  33445.79  33419.90  33441.59   \n",
      "2022-05-09 09:47:00+00:00     ERSX  33436.10  33436.10  33436.10  33436.10   \n",
      "2022-05-09 09:48:00+00:00     CBSE  33441.51  33473.89  33436.69  33466.47   \n",
      "2022-05-09 09:48:00+00:00     FTXU  33447.00  33462.00  33447.00  33462.00   \n",
      "\n",
      "                              volume  trade_count          vwap  \n",
      "timestamp                                                        \n",
      "2022-05-09 05:00:00+00:00  12.666116          266  33647.563792  \n",
      "2022-05-09 05:00:00+00:00   0.040000            4  33649.350000  \n",
      "2022-05-09 05:01:00+00:00  31.958871          606  33690.026451  \n",
      "2022-05-09 05:01:00+00:00   1.003400            7  33694.371636  \n",
      "2022-05-09 05:02:00+00:00   4.746934          325  33710.200857  \n",
      "...                              ...          ...           ...  \n",
      "2022-05-09 09:46:00+00:00   8.076571          245  33444.751950  \n",
      "2022-05-09 09:47:00+00:00  11.253874          372  33432.762462  \n",
      "2022-05-09 09:47:00+00:00   0.020400            1  33436.100000  \n",
      "2022-05-09 09:48:00+00:00   6.572989          303  33453.257261  \n",
      "2022-05-09 09:48:00+00:00   0.112200            2  33459.005348  \n",
      "\n",
      "[496 rows x 8 columns]\n"
     ]
    }
   ],
   "source": [
    "# Instantiate REST API Connection\n",
    "api = REST(key_id=KEY_ID,secret_key=SECRET_KEY,base_url=\"https://paper-api.alpaca.markets\")\n",
    "\n",
    "# Fetch 1Minute historical bars of Bitcoin\n",
    "bars = api.get_crypto_bars(\"BTCUSD\", TimeFrame.Minute).df\n",
    "print(bars)"
   ]
  },
  {
   "cell_type": "code",
   "execution_count": 10,
   "id": "8de3b326",
   "metadata": {},
   "outputs": [
    {
     "name": "stdout",
     "output_type": "stream",
     "text": [
      "                          exchange      open      high       low     close  \\\n",
      "timestamp                                                                    \n",
      "2022-05-09 05:00:00+00:00     CBSE  33639.27  33661.87  33632.15  33655.31   \n",
      "2022-05-09 05:01:00+00:00     CBSE  33653.35  33709.11  33653.35  33701.07   \n",
      "2022-05-09 05:02:00+00:00     CBSE  33700.96  33724.00  33693.83  33721.96   \n",
      "2022-05-09 05:03:00+00:00     CBSE  33718.99  33721.64  33704.80  33711.77   \n",
      "2022-05-09 05:04:00+00:00     CBSE  33711.77  33711.77  33660.93  33664.75   \n",
      "...                            ...       ...       ...       ...       ...   \n",
      "2022-05-09 09:42:00+00:00     CBSE  33435.08  33479.71  33420.23  33472.32   \n",
      "2022-05-09 09:43:00+00:00     CBSE  33474.63  33493.16  33472.66  33483.28   \n",
      "2022-05-09 09:44:00+00:00     CBSE  33483.37  33484.75  33455.15  33455.70   \n",
      "2022-05-09 09:45:00+00:00     CBSE  33457.26  33480.56  33442.94  33442.94   \n",
      "2022-05-09 09:46:00+00:00     CBSE  33442.95  33453.98  33434.68  33440.28   \n",
      "\n",
      "                              volume  trade_count          vwap  \n",
      "timestamp                                                        \n",
      "2022-05-09 05:00:00+00:00  12.666116          266  33647.563792  \n",
      "2022-05-09 05:01:00+00:00  31.958871          606  33690.026451  \n",
      "2022-05-09 05:02:00+00:00   4.746934          325  33710.200857  \n",
      "2022-05-09 05:03:00+00:00   2.201399          202  33711.364907  \n",
      "2022-05-09 05:04:00+00:00   3.857093          273  33691.412534  \n",
      "...                              ...          ...           ...  \n",
      "2022-05-09 09:42:00+00:00  30.215789          485  33448.298729  \n",
      "2022-05-09 09:43:00+00:00   8.374550          281  33479.507135  \n",
      "2022-05-09 09:44:00+00:00   8.001163          342  33462.511196  \n",
      "2022-05-09 09:45:00+00:00   6.884794          305  33460.879327  \n",
      "2022-05-09 09:46:00+00:00   8.076571          245  33444.751950  \n",
      "\n",
      "[287 rows x 8 columns]\n"
     ]
    }
   ],
   "source": [
    "# Filter data by exchange\n",
    "bars = bars[bars.exchange == 'CBSE']\n",
    "print(bars)"
   ]
  },
  {
   "cell_type": "code",
   "execution_count": null,
   "id": "55b8d7b8",
   "metadata": {},
   "outputs": [],
   "source": []
  }
 ],
 "metadata": {
  "kernelspec": {
   "display_name": "Python 3 (ipykernel)",
   "language": "python",
   "name": "python3"
  },
  "language_info": {
   "codemirror_mode": {
    "name": "ipython",
    "version": 3
   },
   "file_extension": ".py",
   "mimetype": "text/x-python",
   "name": "python",
   "nbconvert_exporter": "python",
   "pygments_lexer": "ipython3",
   "version": "3.10.2"
  }
 },
 "nbformat": 4,
 "nbformat_minor": 5
}
